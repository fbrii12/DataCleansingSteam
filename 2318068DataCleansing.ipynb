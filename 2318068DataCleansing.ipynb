{
  "nbformat": 4,
  "nbformat_minor": 0,
  "metadata": {
    "colab": {
      "provenance": [],
      "authorship_tag": "ABX9TyNx4haqX1n4sHlzDa9VNsVz",
      "include_colab_link": true
    },
    "kernelspec": {
      "name": "python3",
      "display_name": "Python 3"
    },
    "language_info": {
      "name": "python"
    }
  },
  "cells": [
    {
      "cell_type": "markdown",
      "metadata": {
        "id": "view-in-github",
        "colab_type": "text"
      },
      "source": [
        "<a href=\"https://colab.research.google.com/github/fbrii12/DataCleansingSteam/blob/main/2318068DataCleansing.ipynb\" target=\"_parent\"><img src=\"https://colab.research.google.com/assets/colab-badge.svg\" alt=\"Open In Colab\"/></a>"
      ]
    },
    {
      "cell_type": "markdown",
      "source": [
        "#1. Import Libraries"
      ],
      "metadata": {
        "id": "meHOlpCnAAdO"
      }
    },
    {
      "cell_type": "code",
      "execution_count": null,
      "metadata": {
        "id": "OmwAWI4F7lDo"
      },
      "outputs": [],
      "source": [
        "import pandas as pd\n",
        "import numpy as np"
      ]
    },
    {
      "cell_type": "code",
      "source": [
        "from google.colab import drive\n",
        "drive.mount('/content/drive')"
      ],
      "metadata": {
        "colab": {
          "base_uri": "https://localhost:8080/"
        },
        "id": "-L2t8pum8QuX",
        "outputId": "e0539801-058e-485d-b289-37d93a6b1132"
      },
      "execution_count": null,
      "outputs": [
        {
          "output_type": "stream",
          "name": "stdout",
          "text": [
            "Mounted at /content/drive\n"
          ]
        }
      ]
    },
    {
      "cell_type": "code",
      "source": [
        "file_path = \"/content/drive/MyDrive/Colab Notebooks/steam.csv\"\n",
        "df = pd.read_csv(file_path)"
      ],
      "metadata": {
        "id": "4jLGuPDh8eFe"
      },
      "execution_count": null,
      "outputs": []
    },
    {
      "cell_type": "markdown",
      "source": [
        "#2. Dataset yang kotor"
      ],
      "metadata": {
        "id": "HqzH_0aUAR11"
      }
    },
    {
      "cell_type": "code",
      "source": [
        "print(\"Preview Dataset Kotor:\")\n",
        "print(df.head())"
      ],
      "metadata": {
        "colab": {
          "base_uri": "https://localhost:8080/"
        },
        "id": "3fCkLB5z9Kc2",
        "outputId": "9adbf860-1465-4c67-9b6f-89256d3452ad"
      },
      "execution_count": null,
      "outputs": [
        {
          "output_type": "stream",
          "name": "stdout",
          "text": [
            "Preview Dataset Kotor:\n",
            "   Unnamed: 0  appid                       name         developer publisher  \\\n",
            "0           0     10             Counter-Strike             Valve     Valve   \n",
            "1           1     20      Team Fortress Classic             Valve     Valve   \n",
            "2           2     30              Day of Defeat             Valve     Valve   \n",
            "3           3     40         Deathmatch Classic             Valve     Valve   \n",
            "4           4     50  Half-Life: Opposing Force  Gearbox Software     Valve   \n",
            "\n",
            "   score_rank  positive  negative  userscore                    owners  \\\n",
            "0         NaN    243818      6427          0  10,000,000 .. 20,000,000   \n",
            "1         NaN      7602      1136          0    1,000,000 .. 2,000,000   \n",
            "2         NaN      6414       688          0   5,000,000 .. 10,000,000   \n",
            "3         NaN      2618       545          0   5,000,000 .. 10,000,000   \n",
            "4         NaN     24363      1198          0    2,000,000 .. 5,000,000   \n",
            "\n",
            "   average_forever  average_2weeks  median_forever  median_2weeks  price  \\\n",
            "0            12222             563             204             88  199.0   \n",
            "1              361            6722              15           6722  499.0   \n",
            "2              859            3485              23           3604  499.0   \n",
            "3              353               4              10              4  499.0   \n",
            "4              528              78             162             78  499.0   \n",
            "\n",
            "   initialprice  discount   ccu  \n",
            "0         999.0      80.0  7323  \n",
            "1         499.0       0.0    66  \n",
            "2         499.0       0.0    87  \n",
            "3         499.0       0.0     7  \n",
            "4         499.0       0.0    74  \n"
          ]
        }
      ]
    },
    {
      "cell_type": "markdown",
      "source": [
        "#3. Mengecek Missing Values"
      ],
      "metadata": {
        "id": "n_NERJyGAbE0"
      }
    },
    {
      "cell_type": "code",
      "source": [
        "print(\"\\nCek Missing Value:\")\n",
        "print(df.isnull().sum())"
      ],
      "metadata": {
        "colab": {
          "base_uri": "https://localhost:8080/"
        },
        "id": "b4Fvbh9K9Ozf",
        "outputId": "b89f00be-5829-44fb-9fe8-43eb4b838a15"
      },
      "execution_count": null,
      "outputs": [
        {
          "output_type": "stream",
          "name": "stdout",
          "text": [
            "\n",
            "Cek Missing Value:\n",
            "Unnamed: 0             0\n",
            "appid                  0\n",
            "name                  18\n",
            "developer            311\n",
            "publisher            614\n",
            "score_rank         86491\n",
            "positive               0\n",
            "negative               0\n",
            "userscore              0\n",
            "owners                 0\n",
            "average_forever        0\n",
            "average_2weeks         0\n",
            "median_forever         0\n",
            "median_2weeks          0\n",
            "price                 28\n",
            "initialprice          21\n",
            "discount              21\n",
            "ccu                    0\n",
            "dtype: int64\n"
          ]
        }
      ]
    },
    {
      "cell_type": "markdown",
      "source": [
        "#4. Perbaikan Missing Value"
      ],
      "metadata": {
        "id": "VDhjc70OAkgs"
      }
    },
    {
      "cell_type": "code",
      "source": [
        "for col in df.columns:\n",
        "    if df[col].dtype in [\"int64\", \"float64\"]:\n",
        "        df[col] = df[col].fillna(df[col].median())  # numerik isi median\n",
        "    else:\n",
        "        df[col] = df[col].fillna(df[col].mode()[0]) # kategorikal isi modus"
      ],
      "metadata": {
        "id": "L5JCdJaI9aF3"
      },
      "execution_count": null,
      "outputs": []
    },
    {
      "cell_type": "markdown",
      "source": [
        "#5. Cek ulang perbaikan Missing Value"
      ],
      "metadata": {
        "id": "H0E8L3u6AmbF"
      }
    },
    {
      "cell_type": "code",
      "source": [
        "print(\"\\nCek Ulang Missing Value:\")\n",
        "print(df.isnull().sum())"
      ],
      "metadata": {
        "colab": {
          "base_uri": "https://localhost:8080/"
        },
        "id": "L9JBXWlE9he2",
        "outputId": "e5f9a627-c9ab-4744-a3f7-564a08bd18d9"
      },
      "execution_count": null,
      "outputs": [
        {
          "output_type": "stream",
          "name": "stdout",
          "text": [
            "\n",
            "Cek Ulang Missing Value:\n",
            "Unnamed: 0         0\n",
            "appid              0\n",
            "name               0\n",
            "developer          0\n",
            "publisher          0\n",
            "score_rank         0\n",
            "positive           0\n",
            "negative           0\n",
            "userscore          0\n",
            "owners             0\n",
            "average_forever    0\n",
            "average_2weeks     0\n",
            "median_forever     0\n",
            "median_2weeks      0\n",
            "price              0\n",
            "initialprice       0\n",
            "discount           0\n",
            "ccu                0\n",
            "dtype: int64\n"
          ]
        }
      ]
    },
    {
      "cell_type": "markdown",
      "source": [
        "#6. Cek dan Hapus Duplikasi"
      ],
      "metadata": {
        "id": "8_X01Q60Aswj"
      }
    },
    {
      "cell_type": "code",
      "source": [
        "print(\"\\nJumlah data duplikat:\", df.duplicated().sum())\n",
        "df = df.drop_duplicates()"
      ],
      "metadata": {
        "colab": {
          "base_uri": "https://localhost:8080/"
        },
        "id": "vai0snLJ9lAA",
        "outputId": "d6fbfbda-bdf8-4990-e894-e72284d930c9"
      },
      "execution_count": null,
      "outputs": [
        {
          "output_type": "stream",
          "name": "stdout",
          "text": [
            "\n",
            "Jumlah data duplikat: 0\n"
          ]
        }
      ]
    },
    {
      "cell_type": "markdown",
      "source": [
        "#7. Cek Outlier dengan metode IQR"
      ],
      "metadata": {
        "id": "XYMJPo5BAuhj"
      }
    },
    {
      "cell_type": "code",
      "source": [
        "def detect_outliers_iqr(data, col):\n",
        "    Q1 = data[col].quantile(0.25)\n",
        "    Q3 = data[col].quantile(0.75)\n",
        "    IQR = Q3 - Q1\n",
        "    lower = Q1 - 1.5 * IQR\n",
        "    upper = Q3 + 1.5 * IQR\n",
        "    return data[(data[col] < lower) | (data[col] > upper)]\n",
        "\n",
        "for col in df.select_dtypes(include=[\"int64\",\"float64\"]).columns:\n",
        "    outliers = detect_outliers_iqr(df, col)\n",
        "    print(f\"Outlier di kolom {col}: {outliers.shape[0]}\")"
      ],
      "metadata": {
        "colab": {
          "base_uri": "https://localhost:8080/"
        },
        "id": "gTN5QNzX9oI2",
        "outputId": "4b3e0a73-ca06-48f4-c196-d377b0621876"
      },
      "execution_count": null,
      "outputs": [
        {
          "output_type": "stream",
          "name": "stdout",
          "text": [
            "Outlier di kolom Unnamed: 0: 0\n",
            "Outlier di kolom appid: 0\n",
            "Outlier di kolom score_rank: 23\n",
            "Outlier di kolom positive: 14237\n",
            "Outlier di kolom negative: 13552\n",
            "Outlier di kolom userscore: 47\n",
            "Outlier di kolom average_forever: 16228\n",
            "Outlier di kolom average_2weeks: 3213\n",
            "Outlier di kolom median_forever: 17099\n",
            "Outlier di kolom median_2weeks: 3213\n",
            "Outlier di kolom price: 4055\n",
            "Outlier di kolom initialprice: 5042\n",
            "Outlier di kolom discount: 7947\n",
            "Outlier di kolom ccu: 19229\n"
          ]
        }
      ]
    },
    {
      "cell_type": "markdown",
      "source": [
        "#8. Standarisasi Format Data"
      ],
      "metadata": {
        "id": "T5iQICjAA4lN"
      }
    },
    {
      "cell_type": "code",
      "source": [
        "for col in df.select_dtypes(include=[\"object\"]).columns:\n",
        "    df[col] = df[col].astype(str).str.strip().str.lower()"
      ],
      "metadata": {
        "id": "ePJi-tBo-Jin"
      },
      "execution_count": null,
      "outputs": []
    },
    {
      "cell_type": "code",
      "source": [
        "print(\"=== Contoh kolom name setelah standarisasi ===\")\n",
        "print(df['name'].head(10))"
      ],
      "metadata": {
        "colab": {
          "base_uri": "https://localhost:8080/"
        },
        "id": "S37TJVwV-PZd",
        "outputId": "7fe31d7f-d251-4a7d-9507-c269b6ce6537"
      },
      "execution_count": null,
      "outputs": [
        {
          "output_type": "stream",
          "name": "stdout",
          "text": [
            "=== Contoh kolom name setelah standarisasi ===\n",
            "0                    counter-strike\n",
            "1             team fortress classic\n",
            "2                     day of defeat\n",
            "3                deathmatch classic\n",
            "4         half-life: opposing force\n",
            "5                          ricochet\n",
            "6                         half-life\n",
            "7    counter-strike: condition zero\n",
            "8    counter-strike: condition zero\n",
            "9             half-life: blue shift\n",
            "Name: name, dtype: object\n"
          ]
        }
      ]
    },
    {
      "cell_type": "markdown",
      "source": [
        "#9. Cek Nilai Tidak Valid (contoh: umur tidak boleh negatif)"
      ],
      "metadata": {
        "id": "HcPzlpqXBB-1"
      }
    },
    {
      "cell_type": "code",
      "source": [
        "if \"umur\" in df.columns:\n",
        "    invalid = df[df[\"umur\"] < 0]\n",
        "    print(\"\\nNilai tidak valid di kolom umur:\")\n",
        "    print(invalid)"
      ],
      "metadata": {
        "id": "skiuMPQQ-fsV"
      },
      "execution_count": null,
      "outputs": []
    },
    {
      "cell_type": "markdown",
      "source": [
        "#10. Cek Kolom Tidak Relevan\n"
      ],
      "metadata": {
        "id": "pDG1GxMSBLYM"
      }
    },
    {
      "cell_type": "code",
      "source": [
        "if \"id\" in df.columns:\n",
        "    df = df.drop(columns=[\"id\"])"
      ],
      "metadata": {
        "id": "S5JDjlIA_JS-"
      },
      "execution_count": null,
      "outputs": []
    },
    {
      "cell_type": "code",
      "source": [
        "print(\"=== Jumlah nilai unik per kolom ===\")\n",
        "print(df.nunique())"
      ],
      "metadata": {
        "colab": {
          "base_uri": "https://localhost:8080/"
        },
        "id": "-y7LaRa3_NTw",
        "outputId": "c8460de8-27ba-491b-e15c-3a8932ed830f"
      },
      "execution_count": null,
      "outputs": [
        {
          "output_type": "stream",
          "name": "stdout",
          "text": [
            "=== Jumlah nilai unik per kolom ===\n",
            "Unnamed: 0         86538\n",
            "appid              82500\n",
            "name               81705\n",
            "developer          51707\n",
            "publisher          45264\n",
            "score_rank             3\n",
            "positive            5674\n",
            "negative            2818\n",
            "userscore             34\n",
            "owners                13\n",
            "average_forever     3083\n",
            "average_2weeks       914\n",
            "median_forever      2550\n",
            "median_2weeks        908\n",
            "price                624\n",
            "initialprice         357\n",
            "discount              85\n",
            "ccu                 1104\n",
            "dtype: int64\n"
          ]
        }
      ]
    },
    {
      "cell_type": "code",
      "source": [
        "# Identifikasi kolom kandidat tidak relevan\n",
        "irrelevant_cols = []\n",
        "\n",
        "# Kolom dengan 1 nilai unik\n",
        "single_value_cols = df.nunique()[df.nunique() == 1].index.tolist()\n",
        "irrelevant_cols.extend(single_value_cols)"
      ],
      "metadata": {
        "id": "MhjUP92k_ZdG"
      },
      "execution_count": null,
      "outputs": []
    },
    {
      "cell_type": "code",
      "source": [
        "# Hapus kolom tidak relevan\n",
        "df = df.drop(columns=set(irrelevant_cols), errors='ignore')\n",
        "\n",
        "print(\"\\n=== Setelah perbaikan ===\")\n",
        "print(\"Kolom dataset sekarang:\", df.columns.tolist())"
      ],
      "metadata": {
        "colab": {
          "base_uri": "https://localhost:8080/"
        },
        "id": "boy4oDUs_buI",
        "outputId": "0538d61c-ed30-4e85-b9df-e039f5984982"
      },
      "execution_count": null,
      "outputs": [
        {
          "output_type": "stream",
          "name": "stdout",
          "text": [
            "\n",
            "=== Setelah perbaikan ===\n",
            "Kolom dataset sekarang: ['Unnamed: 0', 'appid', 'name', 'developer', 'publisher', 'score_rank', 'positive', 'negative', 'userscore', 'owners', 'average_forever', 'average_2weeks', 'median_forever', 'median_2weeks', 'price', 'initialprice', 'discount', 'ccu']\n"
          ]
        }
      ]
    },
    {
      "cell_type": "markdown",
      "source": [
        "#11. Dataset Setelah Cleansing"
      ],
      "metadata": {
        "id": "USWWFRx3Bf98"
      }
    },
    {
      "cell_type": "code",
      "source": [
        "print(\"\\nDataset Bersih (preview):\")\n",
        "print(df.head())"
      ],
      "metadata": {
        "colab": {
          "base_uri": "https://localhost:8080/"
        },
        "id": "txEb4AxO_kZm",
        "outputId": "6f01bd4b-ac70-4aef-ed74-68ed7ffd5327"
      },
      "execution_count": null,
      "outputs": [
        {
          "output_type": "stream",
          "name": "stdout",
          "text": [
            "\n",
            "Dataset Bersih (preview):\n",
            "   Unnamed: 0  appid                       name         developer publisher  \\\n",
            "0           0     10             counter-strike             valve     valve   \n",
            "1           1     20      team fortress classic             valve     valve   \n",
            "2           2     30              day of defeat             valve     valve   \n",
            "3           3     40         deathmatch classic             valve     valve   \n",
            "4           4     50  half-life: opposing force  gearbox software     valve   \n",
            "\n",
            "   score_rank  positive  negative  userscore                    owners  \\\n",
            "0        99.0    243818      6427          0  10,000,000 .. 20,000,000   \n",
            "1        99.0      7602      1136          0    1,000,000 .. 2,000,000   \n",
            "2        99.0      6414       688          0   5,000,000 .. 10,000,000   \n",
            "3        99.0      2618       545          0   5,000,000 .. 10,000,000   \n",
            "4        99.0     24363      1198          0    2,000,000 .. 5,000,000   \n",
            "\n",
            "   average_forever  average_2weeks  median_forever  median_2weeks  price  \\\n",
            "0            12222             563             204             88  199.0   \n",
            "1              361            6722              15           6722  499.0   \n",
            "2              859            3485              23           3604  499.0   \n",
            "3              353               4              10              4  499.0   \n",
            "4              528              78             162             78  499.0   \n",
            "\n",
            "   initialprice  discount   ccu  \n",
            "0         999.0      80.0  7323  \n",
            "1         499.0       0.0    66  \n",
            "2         499.0       0.0    87  \n",
            "3         499.0       0.0     7  \n",
            "4         499.0       0.0    74  \n"
          ]
        }
      ]
    },
    {
      "cell_type": "code",
      "source": [
        "print(\"\\nCleansing selesai. Dataset steam.csv siap digunakan.\")"
      ],
      "metadata": {
        "colab": {
          "base_uri": "https://localhost:8080/"
        },
        "id": "5x4wOkNG_qYs",
        "outputId": "9de606e9-ba53-4d26-8361-71f076b15f68"
      },
      "execution_count": null,
      "outputs": [
        {
          "output_type": "stream",
          "name": "stdout",
          "text": [
            "\n",
            "Cleansing selesai. Dataset steam.csv siap digunakan.\n"
          ]
        }
      ]
    },
    {
      "cell_type": "markdown",
      "source": [
        "#12. kesimpulan\n"
      ],
      "metadata": {
        "id": "QUp7W6gDBjSb"
      }
    },
    {
      "cell_type": "code",
      "source": [
        "# 12. Kesimpulan\n",
        "print(\"\\n=== KESIMPULAN ===\")\n",
        "print(\"1. Dataset 'steam.csv' berhasil dibaca sebagai dataset kotor.\")\n",
        "print(\"2. Missing value berhasil diperbaiki dengan metode median (numerik) dan modus (kategorikal).\")\n",
        "print(\"3. Duplikasi data berhasil dihapus sehingga dataset lebih bersih.\")\n",
        "print(\"4. Outlier terdeteksi pada beberapa kolom numerik (cek hasil sebelumnya untuk detail).\")\n",
        "print(\"5. Format data pada kolom string sudah distandarisasi (huruf kecil & tanpa spasi berlebih).\")\n",
        "print(\"6. Nilai tidak valid (misalnya umur negatif) berhasil teridentifikasi.\")\n",
        "print(\"7. Kolom yang tidak relevan (misalnya ID) dihapus agar dataset lebih ringkas.\")\n",
        "print(\"8. Dataset akhir disimpan dengan nama 'steam_clean.csv' di Google Drive.\")\n",
        "print(\"=> Dataset kini sudah siap digunakan untuk analisis lebih lanjut atau pemodelan machine learning.\")"
      ],
      "metadata": {
        "colab": {
          "base_uri": "https://localhost:8080/"
        },
        "id": "e71LCN8_B0ss",
        "outputId": "1e4b686b-491c-4f08-80b1-0dbdada57eef"
      },
      "execution_count": null,
      "outputs": [
        {
          "output_type": "stream",
          "name": "stdout",
          "text": [
            "\n",
            "=== KESIMPULAN ===\n",
            "1. Dataset 'steam.csv' berhasil dibaca sebagai dataset kotor.\n",
            "2. Missing value berhasil diperbaiki dengan metode median (numerik) dan modus (kategorikal).\n",
            "3. Duplikasi data berhasil dihapus sehingga dataset lebih bersih.\n",
            "4. Outlier terdeteksi pada beberapa kolom numerik (cek hasil sebelumnya untuk detail).\n",
            "5. Format data pada kolom string sudah distandarisasi (huruf kecil & tanpa spasi berlebih).\n",
            "6. Nilai tidak valid (misalnya umur negatif) berhasil teridentifikasi.\n",
            "7. Kolom yang tidak relevan (misalnya ID) dihapus agar dataset lebih ringkas.\n",
            "8. Dataset akhir disimpan dengan nama 'steam_clean.csv' di Google Drive.\n",
            "=> Dataset kini sudah siap digunakan untuk analisis lebih lanjut atau pemodelan machine learning.\n"
          ]
        }
      ]
    }
  ]
}